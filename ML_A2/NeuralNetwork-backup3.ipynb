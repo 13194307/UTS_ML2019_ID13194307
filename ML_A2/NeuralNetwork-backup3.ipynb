{
  "nbformat": 4,
  "nbformat_minor": 0,
  "metadata": {
    "colab": {
      "name": "Untitled1.ipynb",
      "version": "0.3.2",
      "provenance": [],
      "include_colab_link": true
    },
    "kernelspec": {
      "name": "python3",
      "display_name": "Python 3"
    }
  },
  "cells": [
    {
      "cell_type": "markdown",
      "metadata": {
        "id": "view-in-github",
        "colab_type": "text"
      },
      "source": [
        "<a href=\"https://colab.research.google.com/github/13194307/UTS_ML2019_ID13194307/blob/master/ML_A2/NeuralNetwork-backup3.ipynb\" target=\"_parent\"><img src=\"https://colab.research.google.com/assets/colab-badge.svg\" alt=\"Open In Colab\"/></a>"
      ]
    },
    {
      "cell_type": "markdown",
      "metadata": {
        "id": "58CYTad3_pXS",
        "colab_type": "text"
      },
      "source": [
        "TODO LIST:\n",
        "\n",
        "\n",
        "*   Finish off backpropagation (currently only updates output layer weights)\n",
        "*   Perhaps add different kinds of layer classes (one for Dense layers, one for output)\n",
        "*   Double check the order of values in each derivative\n",
        "\n"
      ]
    },
    {
      "cell_type": "code",
      "metadata": {
        "id": "bzMSrFr7rdcm",
        "colab_type": "code",
        "colab": {}
      },
      "source": [
        "import math\n",
        "import numpy as np\n",
        "import sklearn\n",
        "from sklearn.model_selection import train_test_split\n",
        "from sklearn.metrics import *\n",
        "from scipy.special import softmax\n",
        "from scipy import stats"
      ],
      "execution_count": 0,
      "outputs": []
    },
    {
      "cell_type": "code",
      "metadata": {
        "id": "nVDbs3ITY0NV",
        "colab_type": "code",
        "colab": {}
      },
      "source": [
        "def verticalVectorTimesMatrix(vectors, matrices):\n",
        "    output = []\n",
        "    vectors = np.array(vectors)\n",
        "    matrices = np.array(matrices)\n",
        "    \n",
        "    if len(np.shape(vectors)) == 1:\n",
        "        output = [vectors[i]*matrices[i] for i in range(len(vectors))]\n",
        "    else:\n",
        "        for i in range(len(vectors)):\n",
        "            #print(\"CurrVector:\", vectors[i])\n",
        "            #print(\"CurrMatrix:\", matrices[i])\n",
        "            output.append([vectors[i][j]*matrices[i][j] for j in range(len(vectors[i]))])\n",
        "            #print(\"CurrOutput:\", output)\n",
        "        \n",
        "    return np.array(output)"
      ],
      "execution_count": 0,
      "outputs": []
    },
    {
      "cell_type": "code",
      "metadata": {
        "id": "TAtP_X--sHAp",
        "colab_type": "code",
        "colab": {}
      },
      "source": [
        "class NeuralNetwork:\n",
        "    class Layer:\n",
        "        class Neuron:\n",
        "            def __init__(self, inputShape):\n",
        "                self.weights, self.bias = self.initialiseWeights(inputShape)\n",
        "                \n",
        "            def initialiseWeights(self, inputShape):\n",
        "                weights = np.array([np.random.randn() for _ in range(0, inputShape)]) * 0.1\n",
        "                bias = np.random.randn() * 0.1\n",
        "                \n",
        "                return weights, bias\n",
        "            \n",
        "            def getWeights(self):\n",
        "                return self.weights\n",
        "            \n",
        "            def generateNeuronOutput(self, x):\n",
        "                return np.dot(self.weights, x) + self.bias\n",
        "            \n",
        "            def updateWeights(self, update):\n",
        "                #print(\"Before:\", self.weights)\n",
        "                self.weights -= update\n",
        "                #print(\"After:\", self.weights)\n",
        "            \n",
        "        \n",
        "        def __init__(self, layerType, neuronsPerLayer, inputShape):\n",
        "            self.layerType = layerType\n",
        "            self.numNeurons = neuronsPerLayer\n",
        "            self.inputShape = inputShape\n",
        "            self.neurons = [self.Neuron(inputShape) for _ in range(neuronsPerLayer)]\n",
        "            self.dWeightedSum_dWeights = []\n",
        "            self.dWeightedSum_dInput = []\n",
        "            \n",
        "            if layerType == \"Output\":\n",
        "                self.dSoftmax = []\n",
        "            elif layerType == \"Dense\":\n",
        "                self.dRelu = []\n",
        "            \n",
        "        def getInputShape(self):\n",
        "            return self.inputShape\n",
        "        \n",
        "        def getNumNeurons(self):\n",
        "            return self.numNeurons\n",
        "        \n",
        "        def getDSoftmax(self):\n",
        "            return self.dSoftmax\n",
        "        \n",
        "        def getType(self):\n",
        "            return self.layerType\n",
        "        \n",
        "        def getDWeightedSum_dWeights(self):\n",
        "            return self.dWeightedSum_dWeights\n",
        "        \n",
        "        def getDWeightedSum_dInput(self):\n",
        "            return self.dWeightedSum_dInput\n",
        "        \n",
        "        def getDRelu(self):\n",
        "            return self.dRelu\n",
        "        \n",
        "        def generateLayerOutput(self, x):\n",
        "            layerOutput = np.array([])\n",
        "            change = [self.calcDWeightedSum_dWeights(x) for _ in range(self.numNeurons)]\n",
        "            self.dWeightedSum_dWeights.append(change)\n",
        "            \n",
        "            change = []\n",
        "            \n",
        "            for neuron in self.neurons:\n",
        "                change.append(neuron.getWeights())\n",
        "                neuronOutput = neuron.generateNeuronOutput(x)\n",
        "                layerOutput = np.append(layerOutput, neuronOutput)\n",
        "                \n",
        "            self.dWeightedSum_dInput.append(change)\n",
        "               \n",
        "            #print(self.layerType, \":\", layerOutput)\n",
        "            if self.layerType == \"Dense\":\n",
        "                #Leaky ReLU activation\n",
        "                change = self.calcDRelu(layerOutput)\n",
        "                self.dRelu.append(change)\n",
        "                layerOutput[layerOutput < 0] *= 0.01\n",
        "            elif self.layerType == \"Output\":\n",
        "                if len(layerOutput) == 1:\n",
        "                    #Sigmoid activation\n",
        "                    layerOutput = 1 / (1 + math.exp(-1*layerOutput[0]))\n",
        "                    #print(\"Probabilities: \", layerOutput)\n",
        "                else:\n",
        "                    #Softmax activation\n",
        "                    layerOutput = np.exp(layerOutput)/sum(np.exp(layerOutput))\n",
        "                    change = self.calcDSoftmax(layerOutput)\n",
        "                    self.dSoftmax.append(change)\n",
        "                    #print(self.dSoftmax)\n",
        "                    #print(\"Probabilities: \", layerOutput)\n",
        "            else:\n",
        "                raise NotImplementedError\n",
        "                    \n",
        "            #print(\"After activation - \", layerOutput)\n",
        "            return layerOutput\n",
        "        \n",
        "        # Derivative of softmax with respect to weighted sum/dot product\n",
        "        def calcDSoftmax(self, prob):\n",
        "            n = len(prob)\n",
        "            return [prob[i]-(prob[i]**2) for i in range(n)]\n",
        "        \n",
        "        # Derivative of weighted sum with respect to the weights\n",
        "        # This function is kinda pointless as it just returns the argument\n",
        "        # passed to it unaltered but I added it in to remind me that this\n",
        "        # is the derivative.\n",
        "        def calcDWeightedSum_dWeights(self, x):\n",
        "            return x\n",
        "        \n",
        "        # Derivative of weighted sum with respect to the input provided\n",
        "        # Also a redundant function, and was also added in for the same\n",
        "        # reason as above\n",
        "        def calcDWeightedSum_dInput(self, weights):\n",
        "            return weights\n",
        "        \n",
        "        # Derivative of Leaky ReLU with respect to weighted sum/dot product\n",
        "        def calcDRelu(self, input_vector):\n",
        "            derivative = np.array(input_vector)\n",
        "            derivative[derivative > 0] = 1\n",
        "            derivative[derivative <= 0] = 0.01\n",
        "            return derivative\n",
        "        \n",
        "        def updateWeights(self, update):\n",
        "            for i in range(self.numNeurons):\n",
        "                self.neurons[i].updateWeights(update[i])\n",
        "            \n",
        "        def __str__(self):\n",
        "            output = \"\"\n",
        "            for neuron in self.neurons:\n",
        "                weights, bias = neuron.getWeightsAndBias()\n",
        "                output+=\"\\t\"\n",
        "                \n",
        "                for j in range(0, len(weights)):\n",
        "                    output+=(\"w{}: {}, \".format(j, weights[j]))\n",
        "                    \n",
        "                output+=(\"b0: {}\\n\".format(bias))\n",
        "            \n",
        "            return output\n",
        "        \n",
        "        \n",
        "        \n",
        "        \n",
        "        \n",
        "    \n",
        "    def __init__(self):\n",
        "        self.layers = []\n",
        "        self.numLayers = 0\n",
        "        \n",
        "    def addLayer(self, layerType, neuronsPerLayer, inputShape=None):\n",
        "        if inputShape == None:\n",
        "            inputShape = self.layers[-1].getNumNeurons()\n",
        "            \n",
        "        self.layers.append(self.Layer(layerType, neuronsPerLayer, inputShape))\n",
        "        self.numLayers+=1\n",
        "        \n",
        "    def predict(self, x, labels, batch_size=30, step_size = 0.3):\n",
        "        for i in range(50):\n",
        "            probabilities = []\n",
        "            dError = []\n",
        "            counter = 0\n",
        "\n",
        "            for i in range(len(x)):\n",
        "                prob = self.feedForward(x[i])\n",
        "                change = self.calcDError(prob, labels[i])\n",
        "                dError.append(change)\n",
        "                counter+=1\n",
        "\n",
        "                if counter == batch_size:\n",
        "                    counter = 0\n",
        "                    self.backPropagation(dError, step_size, batch_size)\n",
        "                    dError = []\n",
        "\n",
        "                #print(pred)\n",
        "                probabilities.append(prob)\n",
        "\n",
        "            predictions = np.argmax(probabilities, axis=1)\n",
        "            loss = self.calcTotalLoss(probabilities, labels)\n",
        "            print(loss)\n",
        "            \n",
        "        return predictions\n",
        "    \n",
        "    def feedForward(self, x):\n",
        "        lastLayerOutput = x\n",
        "        \n",
        "        for layer in self.layers:\n",
        "            lastLayerOutput = layer.generateLayerOutput(lastLayerOutput)\n",
        "            \n",
        "        return lastLayerOutput\n",
        "    \n",
        "    def backPropagation(self, dError, step_size, batch_size=None):\n",
        "        #Only updates output layer weights for now\n",
        "        d1 = np.array(dError)\n",
        "        d2 = np.array(self.layers[-1].getDSoftmax())\n",
        "        d3 = np.array(self.layers[-1].getDWeightedSum_dWeights())\n",
        "        #print(\"d1:\", d1)\n",
        "        #print(\"d2:\", d2)\n",
        "        #print(\"d3:\", d3[0])\n",
        "        changeOutputWeights = [d1[i]*d2[i]*d3[i] for i in range(len(d3))]\n",
        "        avgChange = (sum(changeOutputWeights)/batch_size) * step_size\n",
        "        #print(\"change:\", changeOutputWeights)\n",
        "        #print(\"fin change:\", avgChange)\n",
        "        self.layers[-1].updateWeights(avgChange)\n",
        "        \n",
        "        # Derivatives for H[-1] \n",
        "        '''d4 = np.array(self.layers[-1].getDWeightedSum_dInput())\n",
        "        d5 = np.array(self.layers[-2].getDRelu())\n",
        "        d6 = np.array(self.layers[-2].getDWeightedSum_dWeights())\n",
        "        print(\"d4:\", d4)\n",
        "        print(\"d5:\", d5)\n",
        "        print(\"d6:\", d6)\n",
        "        dTotalError = np.array([np.sum(d1[i]*d2[i]*d4[i], axis=1) for i in range(batch_size)])\n",
        "        length = len(dTotalError[0])\n",
        "        onesArray = np.ones((length, length))\n",
        "        dTotalError = [np.transpose(dTotalError[i]*onesArray) for i in range(batch_size)]\n",
        "        print(onesArray)\n",
        "        print(\"dTotalError:\", dTotalError)\n",
        "        changeHiddenWeights = [d5[i]*d6[i]*dTotalError[i] for i in range(batch_size)]\n",
        "        avgChange = (sum(changeHiddenWeights)/batch_size) * step_size\n",
        "        \n",
        "        #print(\"dTotalError sum:\", dTotalError)\n",
        "        print(\"Change:\", changeHiddenWeights)\n",
        "        print(\"Avg:\", avgChange)'''\n",
        "        #print(\"Combined before\", d4 * d1)\n",
        "        \n",
        "        #self.layers[-2].updateWeights(avgChange)\n",
        "        # End of derivatives for H[-1] \n",
        "        \n",
        "        # Start of loop experiments\n",
        "        numWeights = self.layers[-2].getNumNeurons()\n",
        "        shape = np.shape(d2)\n",
        "        cumulativeDTotalError = []\n",
        "        \n",
        "        for i in range(-2, -1*(self.numLayers+1), -1):\n",
        "            #print(\"i:\", i)\n",
        "            if i == -2:\n",
        "                d4 = np.array(self.layers[-1].getDWeightedSum_dInput())\n",
        "                #print(\"New d1:\", d1)\n",
        "                #print(\"New d2:\", d2)\n",
        "                #print(\"New d4:\", d4)\n",
        "                combined = d1 * d2\n",
        "                \n",
        "                cumulativeDTotalError = verticalVectorTimesMatrix(combined, d4)\n",
        "            else:\n",
        "                d4 = np.array(self.layers[i+1].getDWeightedSum_dInput())\n",
        "                d2 = np.array(self.layers[i].getDRelu())\n",
        "                combined = verticalVectorTimesMatrix(d2, d4)\n",
        "                cumulativeDTotalError *= combined\n",
        "            \n",
        "            #print(\"Cumulative:\",cumulativeDTotalError)\n",
        "            cumulativeSum = np.sum(cumulativeDTotalError, axis=1)\n",
        "            #print(\"Cumulative sum:\", cumulativeSum)\n",
        "            #print(\"Combined:\", d5*cumulativeSum)\n",
        "            d5 = np.array(self.layers[i].getDRelu())\n",
        "            d6 = np.array(self.layers[i].getDWeightedSum_dWeights())\n",
        "            #print(\"d5:\", d5)\n",
        "            #print(\"d6:\", d6)\n",
        "            changeHiddenWeights = verticalVectorTimesMatrix(cumulativeSum*d5, d6)\n",
        "            #print(\"Change in hidden weights:\",changeHiddenWeights)\n",
        "            avgChange = (sum(changeHiddenWeights)/batch_size) * step_size\n",
        "            #print(\"Avg:\", avgChange)\n",
        "            self.layers[i].updateWeights(avgChange)\n",
        "        # End of loop experiments\n",
        "        \n",
        "        self.resetDerivativesStorage()\n",
        "    \n",
        "    #Derivative of error (cross-entropy) with respect to softmax probabilities\n",
        "    def calcDError(self, prob, actual):\n",
        "        n = len(actual)\n",
        "        return [-1*(actual[i]/prob[i]) + ((1 - actual[i])*(-1/(1-prob[i]))) for i in range(n)]\n",
        "    \n",
        "    def calcTotalLoss(self, prob, actual):\n",
        "        #REDO THIS TO WORK WITH ONE HOT ENCODING\n",
        "        n = len(actual)\n",
        "        #loss = -1*sum(np.log([prob[i][actual[i]] for i in range(n)]))/n\n",
        "        loss = -1*np.sum(actual*np.log(prob))/n \n",
        "        return loss\n",
        "        \n",
        "    def resetDerivativesStorage(self):\n",
        "        for layer in self.layers:\n",
        "            layer.dWeightedSum_dWeights = []\n",
        "            layer.dWeightedSum_dInput = []\n",
        "            \n",
        "            if layer.getType() == \"Output\":\n",
        "                layer.dSoftmax = []\n",
        "            elif layer.getType() == \"Dense\":\n",
        "                layer.dRelu = []\n",
        "                \n",
        "    def __str__(self):\n",
        "        output = \"\"\n",
        "        \n",
        "        for i in range(0, self.numLayers):\n",
        "            output+=(\"Layer {}:\\n\".format(i+1))\n",
        "            output+=str(self.layers[i])\n",
        "        \n",
        "        return output"
      ],
      "execution_count": 0,
      "outputs": []
    },
    {
      "cell_type": "code",
      "metadata": {
        "id": "yMEeIQ7_whBD",
        "colab_type": "code",
        "colab": {}
      },
      "source": [
        "nn = NeuralNetwork()\n",
        "nn.addLayer(\"Dense\", 3, inputShape=4)\n",
        "nn.addLayer(\"Dense\", 3)\n",
        "nn.addLayer(\"Dense\", 3)\n",
        "nn.addLayer(\"Output\", 3)\n",
        "#print(nn)"
      ],
      "execution_count": 0,
      "outputs": []
    },
    {
      "cell_type": "code",
      "metadata": {
        "id": "SIUioca4zaw5",
        "colab_type": "code",
        "colab": {}
      },
      "source": [
        "from sklearn.datasets import load_iris\n",
        "\n",
        "iris_X, iris_y = load_iris(True)"
      ],
      "execution_count": 0,
      "outputs": []
    },
    {
      "cell_type": "code",
      "metadata": {
        "id": "tBeLqlxqEhRI",
        "colab_type": "code",
        "colab": {}
      },
      "source": [
        "from sklearn.preprocessing import MinMaxScaler\n",
        "\n",
        "iris_X_trimmed = iris_X\n",
        "\n",
        "scaler = MinMaxScaler()\n",
        "iris_X_scaled = scaler.fit_transform(iris_X_trimmed)\n",
        "iris_X_zscore = stats.zscore(iris_X_trimmed)"
      ],
      "execution_count": 0,
      "outputs": []
    },
    {
      "cell_type": "code",
      "metadata": {
        "id": "E43ANN9uzaQZ",
        "colab_type": "code",
        "colab": {}
      },
      "source": [
        "from sklearn.preprocessing import LabelBinarizer\n",
        "\n",
        "lb = LabelBinarizer()\n",
        "labels = lb.fit_transform(iris_y)"
      ],
      "execution_count": 0,
      "outputs": []
    },
    {
      "cell_type": "code",
      "metadata": {
        "id": "EjMHZ5k0GRM9",
        "colab_type": "code",
        "outputId": "ef7d1930-714d-4e73-f618-d9db39af6b56",
        "colab": {
          "base_uri": "https://localhost:8080/",
          "height": 890
        }
      },
      "source": [
        "pred = nn.predict(iris_X_zscore, labels)\n",
        "accuracy_score(pred, iris_y)"
      ],
      "execution_count": 0,
      "outputs": [
        {
          "output_type": "stream",
          "text": [
            "1.0986916384547956\n",
            "1.098708298448633\n",
            "1.0987230740060108\n",
            "1.0987365006011787\n",
            "1.0987491227430548\n",
            "1.098761522153386\n",
            "1.0987743509883103\n",
            "1.0987883869561912\n",
            "1.098804618654249\n",
            "1.0988243534926692\n",
            "1.0988493967469222\n",
            "1.0988824440645253\n",
            "1.0989272900229112\n",
            "1.0989894460131697\n",
            "1.0990755918450372\n",
            "1.0991904974189628\n",
            "1.0994167308310683\n",
            "1.0913259490137186\n"
          ],
          "name": "stdout"
        },
        {
          "output_type": "stream",
          "text": [
            "/usr/local/lib/python3.6/dist-packages/ipykernel_launcher.py:86: RuntimeWarning: overflow encountered in exp\n"
          ],
          "name": "stderr"
        },
        {
          "output_type": "stream",
          "text": [
            "nan\n",
            "nan\n",
            "nan\n",
            "nan\n",
            "nan\n",
            "nan\n",
            "nan\n",
            "nan\n",
            "nan\n",
            "nan\n",
            "nan\n",
            "nan\n",
            "nan\n",
            "nan\n",
            "nan\n",
            "nan\n",
            "nan\n",
            "nan\n",
            "nan\n",
            "nan\n",
            "nan\n",
            "nan\n",
            "nan\n",
            "nan\n",
            "nan\n",
            "nan\n",
            "nan\n",
            "nan\n",
            "nan\n",
            "nan\n",
            "nan\n",
            "nan\n"
          ],
          "name": "stdout"
        },
        {
          "output_type": "execute_result",
          "data": {
            "text/plain": [
              "0.3333333333333333"
            ]
          },
          "metadata": {
            "tags": []
          },
          "execution_count": 118
        }
      ]
    },
    {
      "cell_type": "code",
      "metadata": {
        "id": "N59zxfHfOMhw",
        "colab_type": "code",
        "outputId": "d93d1cb7-2aa3-4388-d7e3-45c231153fa5",
        "colab": {
          "base_uri": "https://localhost:8080/",
          "height": 101
        }
      },
      "source": [
        "print(iris_y)"
      ],
      "execution_count": 0,
      "outputs": [
        {
          "output_type": "stream",
          "text": [
            "[0 0 0 0 0 0 0 0 0 0 0 0 0 0 0 0 0 0 0 0 0 0 0 0 0 0 0 0 0 0 0 0 0 0 0 0 0\n",
            " 0 0 0 0 0 0 0 0 0 0 0 0 0 1 1 1 1 1 1 1 1 1 1 1 1 1 1 1 1 1 1 1 1 1 1 1 1\n",
            " 1 1 1 1 1 1 1 1 1 1 1 1 1 1 1 1 1 1 1 1 1 1 1 1 1 1 2 2 2 2 2 2 2 2 2 2 2\n",
            " 2 2 2 2 2 2 2 2 2 2 2 2 2 2 2 2 2 2 2 2 2 2 2 2 2 2 2 2 2 2 2 2 2 2 2 2 2\n",
            " 2 2]\n"
          ],
          "name": "stdout"
        }
      ]
    },
    {
      "cell_type": "code",
      "metadata": {
        "id": "DIZWMaIEamX8",
        "colab_type": "code",
        "outputId": "21d11556-1c0b-476f-f030-643d58165cd5",
        "colab": {
          "base_uri": "https://localhost:8080/",
          "height": 252
        }
      },
      "source": [
        "x = [[2, 3], [2, 3]]\n",
        "y =[[[1,2], [3,4]], [[1,2], [3,4]]]\n",
        "print(len(np.shape(x)))\n",
        "z = verticalVectorTimesMatrix(x, y)\n",
        "z"
      ],
      "execution_count": 0,
      "outputs": [
        {
          "output_type": "stream",
          "text": [
            "2\n",
            "CurrVector: [2 3]\n",
            "CurrMatrix: [[1 2]\n",
            " [3 4]]\n",
            "CurrOutput: [[array([2, 4]), array([ 9, 12])]]\n",
            "CurrVector: [2 3]\n",
            "CurrMatrix: [[1 2]\n",
            " [3 4]]\n",
            "CurrOutput: [[array([2, 4]), array([ 9, 12])], [array([2, 4]), array([ 9, 12])]]\n"
          ],
          "name": "stdout"
        },
        {
          "output_type": "execute_result",
          "data": {
            "text/plain": [
              "array([[[ 2,  4],\n",
              "        [ 9, 12]],\n",
              "\n",
              "       [[ 2,  4],\n",
              "        [ 9, 12]]])"
            ]
          },
          "metadata": {
            "tags": []
          },
          "execution_count": 102
        }
      ]
    },
    {
      "cell_type": "code",
      "metadata": {
        "id": "85eATk5Vfi6x",
        "colab_type": "code",
        "colab": {}
      },
      "source": [
        "x = [[[-0.04128888, -0.21790617, -0.27626304],\n",
        "  [-0.21182709, -0.24528817, -0.36041014],\n",
        "  [ 0.0062333,  -0.03675822,  0.02334297]],\n",
        "\n",
        " [[-0.04129861, -0.21795755, -0.27632817],\n",
        "  [-0.21200131, -0.24548991, -0.36070656],\n",
        "  [ 0.00621497, -0.03665011,  0.02327431]]]"
      ],
      "execution_count": 0,
      "outputs": []
    },
    {
      "cell_type": "code",
      "metadata": {
        "id": "9oirxpqzSpWQ",
        "colab_type": "code",
        "colab": {}
      },
      "source": [
        ""
      ],
      "execution_count": 0,
      "outputs": []
    }
  ]
}