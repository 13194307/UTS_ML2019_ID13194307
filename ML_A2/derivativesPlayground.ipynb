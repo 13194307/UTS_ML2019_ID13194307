{
  "nbformat": 4,
  "nbformat_minor": 0,
  "metadata": {
    "colab": {
      "name": "Untitled3.ipynb",
      "version": "0.3.2",
      "provenance": [],
      "include_colab_link": true
    },
    "kernelspec": {
      "name": "python3",
      "display_name": "Python 3"
    }
  },
  "cells": [
    {
      "cell_type": "markdown",
      "metadata": {
        "id": "view-in-github",
        "colab_type": "text"
      },
      "source": [
        "<a href=\"https://colab.research.google.com/github/13194307/UTS_ML2019_ID13194307/blob/master/ML_A2/derivativesPlayground.ipynb\" target=\"_parent\"><img src=\"https://colab.research.google.com/assets/colab-badge.svg\" alt=\"Open In Colab\"/></a>"
      ]
    },
    {
      "cell_type": "code",
      "metadata": {
        "id": "DSkZiLVgb02L",
        "colab_type": "code",
        "colab": {
          "base_uri": "https://localhost:8080/",
          "height": 34
        },
        "outputId": "e073c8a4-a063-4e2f-e68d-d63ae4598a58"
      },
      "source": [
        "import numpy as np\n",
        "import math\n",
        "\n",
        "y = [1.0, 0.0, 0.0]\n",
        "x = [0.2698, 0.3223, 0.4078]\n",
        "n = len(y)\n",
        "loss = (-1*sum((y[i]*np.log(x[i])/np.log(10)) + ((1-y[i])*np.log(1-x[i])) for i in range(n)))/n\n",
        "print(loss)"
      ],
      "execution_count": 50,
      "outputs": [
        {
          "output_type": "stream",
          "text": [
            "0.4939731616062768\n"
          ],
          "name": "stdout"
        }
      ]
    },
    {
      "cell_type": "code",
      "metadata": {
        "id": "DpvO7vjteJQh",
        "colab_type": "code",
        "colab": {
          "base_uri": "https://localhost:8080/",
          "height": 34
        },
        "outputId": "2343d175-92df-471d-d093-a3d398d83490"
      },
      "source": [
        "np.log(x)/np.log(10)"
      ],
      "execution_count": 15,
      "outputs": [
        {
          "output_type": "execute_result",
          "data": {
            "text/plain": [
              "array([-0.56895805, -0.49173969, -0.38955278])"
            ]
          },
          "metadata": {
            "tags": []
          },
          "execution_count": 15
        }
      ]
    },
    {
      "cell_type": "code",
      "metadata": {
        "id": "qaqYheRseLNa",
        "colab_type": "code",
        "colab": {
          "base_uri": "https://localhost:8080/",
          "height": 34
        },
        "outputId": "8202d9c1-e0fe-4208-dd16-c58217b8c8f2"
      },
      "source": [
        "#y = [1, 0, 0, 0, 0]\n",
        "#x = [0.1, 0.5, 0.1, 0.1, 0.2]\n",
        "\n",
        "-1*sum(y[i]*np.log(x[i]) for i in range(n))"
      ],
      "execution_count": 27,
      "outputs": [
        {
          "output_type": "execute_result",
          "data": {
            "text/plain": [
              "2.3025850929940455"
            ]
          },
          "metadata": {
            "tags": []
          },
          "execution_count": 27
        }
      ]
    },
    {
      "cell_type": "code",
      "metadata": {
        "id": "k_dZnO7ckog0",
        "colab_type": "code",
        "colab": {}
      },
      "source": [
        "#Derivative of dE1/dOut1\n",
        "\n",
        "def dE_dSoftmax(prob, actual):\n",
        "    n = len(actual)\n",
        "    #return [actual[i]/prob[i] for i in range(len(actual))]\n",
        "    return [-1*(actual[i]/prob[i]) + ((1 - actual[i])*(-1/(1-prob[i]))) for i in range(n)]\n",
        "    "
      ],
      "execution_count": 0,
      "outputs": []
    },
    {
      "cell_type": "code",
      "metadata": {
        "id": "gw5Gl9BU0dwx",
        "colab_type": "code",
        "colab": {
          "base_uri": "https://localhost:8080/",
          "height": 34
        },
        "outputId": "41a06c7f-c037-4a7e-84e3-f9acb091aeae"
      },
      "source": [
        "d1 = dE_dSoftmax(x, y)\n",
        "d1"
      ],
      "execution_count": 104,
      "outputs": [
        {
          "output_type": "execute_result",
          "data": {
            "text/plain": [
              "[-3.7064492216456637, -1.4755791648221928, -1.6886187098953054]"
            ]
          },
          "metadata": {
            "tags": []
          },
          "execution_count": 104
        }
      ]
    },
    {
      "cell_type": "code",
      "metadata": {
        "id": "GTJ5TZbP1kIv",
        "colab_type": "code",
        "colab": {}
      },
      "source": [
        "#Derivative of dOut1/dIn1\n",
        "\n",
        "def dSoftmax_dDot(prob):\n",
        "    n = len(prob)\n",
        "    return [prob[i]-(prob[i]**2) for i in range(n)]"
      ],
      "execution_count": 0,
      "outputs": []
    },
    {
      "cell_type": "code",
      "metadata": {
        "id": "meQbKGBK57zJ",
        "colab_type": "code",
        "colab": {
          "base_uri": "https://localhost:8080/",
          "height": 34
        },
        "outputId": "36ed8bd0-bf7c-4494-bfbc-2342d4be670c"
      },
      "source": [
        "d2 = dSoftmax_dDot(x)\n",
        "d2"
      ],
      "execution_count": 58,
      "outputs": [
        {
          "output_type": "execute_result",
          "data": {
            "text/plain": [
              "[0.19700795999999998, 0.21842271, 0.24149916]"
            ]
          },
          "metadata": {
            "tags": []
          },
          "execution_count": 58
        }
      ]
    },
    {
      "cell_type": "code",
      "metadata": {
        "id": "EdAWFEDu6KLq",
        "colab_type": "code",
        "colab": {}
      },
      "source": [
        "def dDot_dWeights(input_vector):\n",
        "    return input_vector"
      ],
      "execution_count": 0,
      "outputs": []
    },
    {
      "cell_type": "code",
      "metadata": {
        "id": "JdlabCpE_q76",
        "colab_type": "code",
        "colab": {}
      },
      "source": [
        "input_vector = [ 0.31736485, -0.01150337, -0.01441997]\n",
        "prob = [0.24822991, 0.12071242, 0.63105767]\n",
        "actual = [1, 0, 0]"
      ],
      "execution_count": 0,
      "outputs": []
    },
    {
      "cell_type": "code",
      "metadata": {
        "id": "-QtN3Of6DmCD",
        "colab_type": "code",
        "colab": {
          "base_uri": "https://localhost:8080/",
          "height": 34
        },
        "outputId": "0538d69e-0a8c-4e19-eba6-846904409196"
      },
      "source": [
        "d1 = np.array(dE_dSigmoid(prob, actual))\n",
        "d1"
      ],
      "execution_count": 105,
      "outputs": [
        {
          "output_type": "execute_result",
          "data": {
            "text/plain": [
              "array([-4.0285234 , -1.13728435, -2.71045071])"
            ]
          },
          "metadata": {
            "tags": []
          },
          "execution_count": 105
        }
      ]
    },
    {
      "cell_type": "code",
      "metadata": {
        "id": "PcNdRlH6DvUC",
        "colab_type": "code",
        "colab": {
          "base_uri": "https://localhost:8080/",
          "height": 34
        },
        "outputId": "b4df5c37-b37d-41cd-ee55-a945919c9944"
      },
      "source": [
        "d2 = np.array(dSigmoid_dDot(prob))\n",
        "d2"
      ],
      "execution_count": 106,
      "outputs": [
        {
          "output_type": "execute_result",
          "data": {
            "text/plain": [
              "array([0.18661182, 0.10614093, 0.23282389])"
            ]
          },
          "metadata": {
            "tags": []
          },
          "execution_count": 106
        }
      ]
    },
    {
      "cell_type": "code",
      "metadata": {
        "id": "bE2CKdwJD_Mi",
        "colab_type": "code",
        "colab": {
          "base_uri": "https://localhost:8080/",
          "height": 34
        },
        "outputId": "71bfc17c-6e41-45d5-a410-f0a072747e76"
      },
      "source": [
        "d3 = np.array(dDot_dWeights(input_vector))\n",
        "d3"
      ],
      "execution_count": 107,
      "outputs": [
        {
          "output_type": "execute_result",
          "data": {
            "text/plain": [
              "array([ 0.31736485, -0.01150337, -0.01441997])"
            ]
          },
          "metadata": {
            "tags": []
          },
          "execution_count": 107
        }
      ]
    },
    {
      "cell_type": "code",
      "metadata": {
        "id": "3Q2o0k3OEHHy",
        "colab_type": "code",
        "colab": {
          "base_uri": "https://localhost:8080/",
          "height": 34
        },
        "outputId": "4f33cf3a-0f16-46eb-a651-046da8ad171d"
      },
      "source": [
        "d1*d2*d3*0.01"
      ],
      "execution_count": 114,
      "outputs": [
        {
          "output_type": "execute_result",
          "data": {
            "text/plain": [
              "array([-2.38585402e-03,  1.38859963e-05,  9.09983267e-05])"
            ]
          },
          "metadata": {
            "tags": []
          },
          "execution_count": 114
        }
      ]
    },
    {
      "cell_type": "code",
      "metadata": {
        "id": "qg0VjaiPFDPp",
        "colab_type": "code",
        "colab": {}
      },
      "source": [
        "def dReLU_dDot(input_vector):\n",
        "    derivative = np.array(input_vector)\n",
        "    derivative[derivative > 0] = 1\n",
        "    derivative[derivative <= 0] = 0.01\n",
        "    return derivative"
      ],
      "execution_count": 0,
      "outputs": []
    },
    {
      "cell_type": "code",
      "metadata": {
        "id": "GTBtujiENrjx",
        "colab_type": "code",
        "colab": {
          "base_uri": "https://localhost:8080/",
          "height": 34
        },
        "outputId": "43ceeca4-1ab7-4fc1-8ce6-20d0ca5ae91e"
      },
      "source": [
        "ReLU_values = [0.6, 0.4, 0.2, 0, -0.01, -0.5]\n",
        "d4 = dReLU_dDot(ReLU_values)\n",
        "d4"
      ],
      "execution_count": 111,
      "outputs": [
        {
          "output_type": "execute_result",
          "data": {
            "text/plain": [
              "array([1.  , 1.  , 1.  , 0.01, 0.01, 0.01])"
            ]
          },
          "metadata": {
            "tags": []
          },
          "execution_count": 111
        }
      ]
    },
    {
      "cell_type": "code",
      "metadata": {
        "id": "WO9QCO0SN3OR",
        "colab_type": "code",
        "colab": {}
      },
      "source": [
        "def dDot_dInputVector(weights):\n",
        "    return weights"
      ],
      "execution_count": 0,
      "outputs": []
    }
  ]
}