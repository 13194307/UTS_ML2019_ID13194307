{
  "nbformat": 4,
  "nbformat_minor": 0,
  "metadata": {
    "colab": {
      "name": "Untitled1.ipynb",
      "version": "0.3.2",
      "provenance": [],
      "include_colab_link": true
    },
    "kernelspec": {
      "name": "python3",
      "display_name": "Python 3"
    }
  },
  "cells": [
    {
      "cell_type": "markdown",
      "metadata": {
        "id": "view-in-github",
        "colab_type": "text"
      },
      "source": [
        "<a href=\"https://colab.research.google.com/github/13194307/UTS_ML2019_ID13194307/blob/master/ML_A2/NeuralNetwork.ipynb\" target=\"_parent\"><img src=\"https://colab.research.google.com/assets/colab-badge.svg\" alt=\"Open In Colab\"/></a>"
      ]
    },
    {
      "cell_type": "code",
      "metadata": {
        "id": "bzMSrFr7rdcm",
        "colab_type": "code",
        "colab": {}
      },
      "source": [
        "import random\n",
        "import numpy as np\n",
        "import sklearn\n",
        "from sklearn.model_selection import train_test_split\n",
        "from sklearn.metrics import *"
      ],
      "execution_count": 0,
      "outputs": []
    },
    {
      "cell_type": "code",
      "metadata": {
        "id": "TAtP_X--sHAp",
        "colab_type": "code",
        "colab": {}
      },
      "source": [
        "class NeuralNetwork:\n",
        "    class Layer:\n",
        "        class Neuron:\n",
        "            def __init__(self, inputShape):\n",
        "                self.weights, self.bias = self.initialiseWeights(inputShape)\n",
        "                \n",
        "            def initialiseWeights(self, inputShape):\n",
        "                weights = [random.random() for _ in range(0, inputShape)]\n",
        "                bias = 0\n",
        "                \n",
        "                return weights, bias\n",
        "            \n",
        "            def getWeightsAndBias(self):\n",
        "                return self.weights, self.bias\n",
        "        \n",
        "        def __init__(self, layerType, neuronsPerLayer, inputShape):\n",
        "            self.layerType = layerType\n",
        "            self.neuronsPerLayer = neuronsPerLayer\n",
        "            self.inputShape = inputShape\n",
        "            self.neurons = [self.Neuron(inputShape) for _ in range(0, inputShape)]\n",
        "            \n",
        "        def __str__(self):\n",
        "            for neuron in self.neurons:\n",
        "                weights, bias = neuron.getWeightsAndBias()\n",
        "                output = \"\"\n",
        "                output+=\"\\t\"\n",
        "                \n",
        "                for j in range(0, len(weights)):\n",
        "                    output+=(\"w{}: {}, \".format(j, weights[j]))\n",
        "                    \n",
        "                output+=(\"b0: {}\\n\".format(bias))\n",
        "                return output\n",
        "    \n",
        "    def __init__(self):\n",
        "        self.layers = []\n",
        "        self.numLayers = 0\n",
        "        \n",
        "    def addLayer(self, layerType, neuronsPerLayer, inputShape):\n",
        "        self.layers.append(self.Layer(layerType, neuronsPerLayer, inputShape))\n",
        "        self.numLayers+=1\n",
        "        \n",
        "    def __str__(self):\n",
        "        output = \"\"\n",
        "        \n",
        "        for i in range(0, self.numLayers):\n",
        "            output+=(\"Layer {}:\\n\".format(i+1))\n",
        "            output+=str(self.layers[i])\n",
        "        \n",
        "        return output"
      ],
      "execution_count": 0,
      "outputs": []
    },
    {
      "cell_type": "code",
      "metadata": {
        "id": "yMEeIQ7_whBD",
        "colab_type": "code",
        "colab": {
          "base_uri": "https://localhost:8080/",
          "height": 168
        },
        "outputId": "f4c0eff3-61f1-40e5-8ae7-77ee147153ed"
      },
      "source": [
        "nn = NeuralNetwork()\n",
        "nn.addLayer(\"Input\", 3, 2)\n",
        "nn.addLayer(\"Dense\", 3, 3)\n",
        "nn.addLayer(\"Dense\", 3, 3)\n",
        "nn.addLayer(\"Output\", 1, 3)\n",
        "print(nn)"
      ],
      "execution_count": 34,
      "outputs": [
        {
          "output_type": "stream",
          "text": [
            "Layer 1:\n",
            "\tw0: 0.06944198426067505, w1: 0.3259482158895858, b0: 0\n",
            "Layer 2:\n",
            "\tw0: 0.04029031131070859, w1: 0.8824393050925531, w2: 0.7026731412174123, b0: 0\n",
            "Layer 3:\n",
            "\tw0: 0.21984376762518343, w1: 0.23764118290066383, w2: 0.9957060317920332, b0: 0\n",
            "Layer 4:\n",
            "\tw0: 0.9304273529738061, w1: 0.6511241032068233, w2: 0.8714195880215543, b0: 0\n",
            "\n"
          ],
          "name": "stdout"
        }
      ]
    },
    {
      "cell_type": "code",
      "metadata": {
        "id": "SIUioca4zaw5",
        "colab_type": "code",
        "colab": {}
      },
      "source": [
        ""
      ],
      "execution_count": 0,
      "outputs": []
    }
  ]
}