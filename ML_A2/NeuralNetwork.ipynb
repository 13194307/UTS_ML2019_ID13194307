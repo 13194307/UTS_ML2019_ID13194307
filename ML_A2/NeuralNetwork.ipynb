{
  "nbformat": 4,
  "nbformat_minor": 0,
  "metadata": {
    "colab": {
      "name": "Untitled1.ipynb",
      "version": "0.3.2",
      "provenance": [],
      "include_colab_link": true
    },
    "kernelspec": {
      "name": "python3",
      "display_name": "Python 3"
    }
  },
  "cells": [
    {
      "cell_type": "markdown",
      "metadata": {
        "id": "view-in-github",
        "colab_type": "text"
      },
      "source": [
        "<a href=\"https://colab.research.google.com/github/13194307/UTS_ML2019_ID13194307/blob/master/ML_A2/NeuralNetwork.ipynb\" target=\"_parent\"><img src=\"https://colab.research.google.com/assets/colab-badge.svg\" alt=\"Open In Colab\"/></a>"
      ]
    },
    {
      "cell_type": "markdown",
      "metadata": {
        "id": "58CYTad3_pXS",
        "colab_type": "text"
      },
      "source": [
        "TODO LIST:\n",
        "\n",
        "\n",
        "*   Finish off backpropagation (currently only updates output layer weights)\n",
        "*   Perhaps add different kinds of layer classes (one for Dense layers, one for output)\n",
        "\n"
      ]
    },
    {
      "cell_type": "code",
      "metadata": {
        "id": "bzMSrFr7rdcm",
        "colab_type": "code",
        "colab": {}
      },
      "source": [
        "import math\n",
        "import numpy as np\n",
        "import sklearn\n",
        "from sklearn.model_selection import train_test_split\n",
        "from sklearn.metrics import *\n",
        "from scipy.special import softmax\n",
        "from scipy import stats"
      ],
      "execution_count": 0,
      "outputs": []
    },
    {
      "cell_type": "code",
      "metadata": {
        "id": "TAtP_X--sHAp",
        "colab_type": "code",
        "colab": {}
      },
      "source": [
        "class NeuralNetwork:\n",
        "    class Layer:\n",
        "        class Neuron:\n",
        "            def __init__(self, inputShape):\n",
        "                self.weights, self.bias = self.initialiseWeights(inputShape)\n",
        "                \n",
        "            def initialiseWeights(self, inputShape):\n",
        "                weights = np.array([np.random.randn() for _ in range(0, inputShape)]) / math.sqrt(inputShape)\n",
        "                bias = np.random.randn()\n",
        "                \n",
        "                return weights, bias\n",
        "            \n",
        "            def getWeightsAndBias(self):\n",
        "                return self.weights, self.bias\n",
        "            \n",
        "            def generateNeuronOutput(self, x):\n",
        "                return np.dot(self.weights, x) + self.bias\n",
        "            \n",
        "            def updateWeights(self, update):\n",
        "                print(\"Before:\", self.weights)\n",
        "                self.weights -= update\n",
        "                print(\"After:\", self.weights)\n",
        "            \n",
        "        \n",
        "        def __init__(self, layerType, neuronsPerLayer, inputShape):\n",
        "            self.layerType = layerType\n",
        "            self.numNeurons = neuronsPerLayer\n",
        "            self.inputShape = inputShape\n",
        "            self.neurons = [self.Neuron(inputShape) for _ in range(neuronsPerLayer)]\n",
        "            self.dWeightedSum = []\n",
        "            \n",
        "            if layerType == \"Output\":\n",
        "                self.dSoftmax = []\n",
        "            \n",
        "        def getInputShape(self):\n",
        "            return self.inputShape\n",
        "        \n",
        "        def getNumNeurons(self):\n",
        "            return self.numNeurons\n",
        "        \n",
        "        def getDSoftmax(self):\n",
        "            temp = self.dSoftmax\n",
        "            self.dSoftmax = []\n",
        "            return temp\n",
        "        \n",
        "        def getDWeightedSum(self):\n",
        "            temp = self.dWeightedSum\n",
        "            self.dWeightedSum = []\n",
        "            return temp\n",
        "        \n",
        "        def generateLayerOutput(self, x):\n",
        "            layerOutput = np.array([])\n",
        "            change = [self.calcDWeightedSum(x) for _ in range(self.numNeurons)]\n",
        "            self.dWeightedSum.append(change)\n",
        "            \n",
        "            for neuron in self.neurons:\n",
        "                neuronOutput = neuron.generateNeuronOutput(x)\n",
        "                layerOutput = np.append(layerOutput, neuronOutput)\n",
        "               \n",
        "            print(self.layerType, \":\", layerOutput)\n",
        "            if self.layerType == \"Dense\":\n",
        "                #Leaky ReLU activation\n",
        "                layerOutput[layerOutput < 0] *= 0.01\n",
        "            elif self.layerType == \"Output\":\n",
        "                if len(layerOutput) == 1:\n",
        "                    #Sigmoid activation\n",
        "                    layerOutput = 1 / (1 + math.exp(-1*layerOutput[0]))\n",
        "                    #print(\"Probabilities: \", layerOutput)\n",
        "                else:\n",
        "                    #Softmax activation\n",
        "                    layerOutput = np.exp(layerOutput)/sum(np.exp(layerOutput))\n",
        "                    change = self.calcDSoftmax(layerOutput)\n",
        "                    self.dSoftmax.append(change)\n",
        "                    #print(self.dSoftmax)\n",
        "                    #print(\"Probabilities: \", layerOutput)\n",
        "            else:\n",
        "                raise NotImplementedError\n",
        "                    \n",
        "            print(\"After activation - \", layerOutput)\n",
        "            return layerOutput\n",
        "        \n",
        "        # Derivative of softmax with respect to weighted sum/dot product\n",
        "        def calcDSoftmax(self, prob):\n",
        "            n = len(prob)\n",
        "            return [prob[i]-(prob[i]**2) for i in range(n)]\n",
        "        \n",
        "        # Derivative of weighted sum with respect to the inputs provided\n",
        "        # This function is kinda pointless as it just returns the argument\n",
        "        # passed to it unaltered but I added it in to remind me that this\n",
        "        # is the derivative.\n",
        "        def calcDWeightedSum(self, x):\n",
        "            return x\n",
        "        \n",
        "        def updateWeights(self, update):\n",
        "            for i in range(self.numNeurons):\n",
        "                self.neurons[i].updateWeights(update[i])\n",
        "            \n",
        "        def __str__(self):\n",
        "            output = \"\"\n",
        "            for neuron in self.neurons:\n",
        "                weights, bias = neuron.getWeightsAndBias()\n",
        "                output+=\"\\t\"\n",
        "                \n",
        "                for j in range(0, len(weights)):\n",
        "                    output+=(\"w{}: {}, \".format(j, weights[j]))\n",
        "                    \n",
        "                output+=(\"b0: {}\\n\".format(bias))\n",
        "            \n",
        "            return output\n",
        "        \n",
        "        \n",
        "        \n",
        "        \n",
        "        \n",
        "    \n",
        "    def __init__(self):\n",
        "        self.layers = []\n",
        "        self.numLayers = 0\n",
        "        \n",
        "    def addLayer(self, layerType, neuronsPerLayer, inputShape=None):\n",
        "        if inputShape == None:\n",
        "            inputShape = self.layers[-1].getNumNeurons()\n",
        "            \n",
        "        self.layers.append(self.Layer(layerType, neuronsPerLayer, inputShape))\n",
        "        self.numLayers+=1\n",
        "        \n",
        "    def predict(self, x, labels, batch_size=2, step_size = 0.1):\n",
        "        probabilities = []\n",
        "        dError = []\n",
        "        counter = 0\n",
        "        \n",
        "        for i in range(len(x)):\n",
        "            prob = self.feedForward(x[i])\n",
        "            change = self.calcDError(prob, labels[i])\n",
        "            dError.append(change)\n",
        "            counter+=1\n",
        "            \n",
        "            if counter == batch_size:\n",
        "                counter = 0\n",
        "                self.backPropagation(dError, step_size, batch_size)\n",
        "                dError = []\n",
        "                \n",
        "            #print(pred)\n",
        "            probabilities.append(prob)\n",
        "      \n",
        "        predictions = np.argmax(probabilities, axis=1)\n",
        "        #loss = self.calcTotalLoss(probabilities, labels)\n",
        "        #print(loss)\n",
        "        return predictions\n",
        "    \n",
        "    def feedForward(self, x):\n",
        "        lastLayerOutput = x\n",
        "        \n",
        "        for layer in self.layers:\n",
        "            lastLayerOutput = layer.generateLayerOutput(lastLayerOutput)\n",
        "            \n",
        "        return lastLayerOutput\n",
        "    \n",
        "    def backPropagation(self, dError, step_size, batch_size=None):\n",
        "        #Only updates output layer weights for now\n",
        "        d1 = np.array(dError)\n",
        "        d2 = np.array(self.layers[-1].getDSoftmax())\n",
        "        d3 = np.array(self.layers[-1].getDWeightedSum())\n",
        "        print(\"d1:\", d1)\n",
        "        print(\"d2:\", d2)\n",
        "        print(\"d3:\", d3[0])\n",
        "        changeOutputWeights = [d1[i]*d2[i]*d3[i] for i in range(len(d3))]\n",
        "        avgChange = (sum(changeOutputWeights)/batch_size) * step_size\n",
        "        print(\"change:\", changeOutputWeights)\n",
        "        print(\"fin change:\", avgChange)\n",
        "        self.layers[-1].updateWeights(avgChange)\n",
        "    \n",
        "    #Derivative of error (cross-entropy) with respect to softmax probabilities\n",
        "    def calcDError(self, prob, actual):\n",
        "        n = len(actual)\n",
        "        return [-1*(actual[i]/prob[i]) + ((1 - actual[i])*(-1/(1-prob[i]))) for i in range(n)]\n",
        "    \n",
        "    def calcTotalLoss(self, prob, actual):\n",
        "        #REDO THIS TO WORK WITH ONE HOT ENCODING\n",
        "        n = len(actual)\n",
        "        loss = -1*sum(np.log([prob[i][actual[i]] for i in range(n)]))/n\n",
        "        return loss\n",
        "        \n",
        "    def __str__(self):\n",
        "        output = \"\"\n",
        "        \n",
        "        for i in range(0, self.numLayers):\n",
        "            output+=(\"Layer {}:\\n\".format(i+1))\n",
        "            output+=str(self.layers[i])\n",
        "        \n",
        "        return output"
      ],
      "execution_count": 0,
      "outputs": []
    },
    {
      "cell_type": "code",
      "metadata": {
        "id": "yMEeIQ7_whBD",
        "colab_type": "code",
        "colab": {}
      },
      "source": [
        "nn = NeuralNetwork()\n",
        "nn.addLayer(\"Dense\", 3, inputShape=4)\n",
        "nn.addLayer(\"Dense\", 3)\n",
        "nn.addLayer(\"Dense\", 3)\n",
        "nn.addLayer(\"Output\", 3)\n",
        "#print(nn)"
      ],
      "execution_count": 0,
      "outputs": []
    },
    {
      "cell_type": "code",
      "metadata": {
        "id": "SIUioca4zaw5",
        "colab_type": "code",
        "colab": {}
      },
      "source": [
        "from sklearn.datasets import load_iris\n",
        "\n",
        "iris_X, iris_y = load_iris(True)"
      ],
      "execution_count": 0,
      "outputs": []
    },
    {
      "cell_type": "code",
      "metadata": {
        "id": "tBeLqlxqEhRI",
        "colab_type": "code",
        "colab": {}
      },
      "source": [
        "from sklearn.preprocessing import MinMaxScaler\n",
        "\n",
        "iris_X_trimmed = iris_X\n",
        "\n",
        "scaler = MinMaxScaler()\n",
        "iris_X_scaled = scaler.fit_transform(iris_X_trimmed)\n",
        "iris_X_zscore = stats.zscore(iris_X_trimmed)"
      ],
      "execution_count": 0,
      "outputs": []
    },
    {
      "cell_type": "code",
      "metadata": {
        "id": "E43ANN9uzaQZ",
        "colab_type": "code",
        "colab": {}
      },
      "source": [
        "from sklearn.preprocessing import LabelBinarizer\n",
        "\n",
        "lb = LabelBinarizer()\n",
        "labels = lb.fit_transform(iris_y)"
      ],
      "execution_count": 0,
      "outputs": []
    },
    {
      "cell_type": "code",
      "metadata": {
        "id": "EjMHZ5k0GRM9",
        "colab_type": "code",
        "outputId": "559c4cab-19be-4b66-ab85-ab3617911d6e",
        "colab": {
          "base_uri": "https://localhost:8080/",
          "height": 655
        }
      },
      "source": [
        "pred = nn.predict(iris_X_zscore[0:2, :], labels[0:2])\n",
        "accuracy_score(pred, iris_y[0:2])"
      ],
      "execution_count": 223,
      "outputs": [
        {
          "output_type": "stream",
          "text": [
            "Dense : [ 1.43230935 -0.58692942 -0.96182649]\n",
            "After activation -  [ 1.43230935 -0.00586929 -0.00961826]\n",
            "Dense : [ 1.00770779 -1.20973112  0.86316142]\n",
            "After activation -  [ 1.00770779 -0.01209731  0.86316142]\n",
            "Dense : [-2.34949951  0.68492261  1.04320793]\n",
            "After activation -  [-0.023495    0.68492261  1.04320793]\n",
            "Output : [-0.29776819 -1.45048303  0.90796942]\n",
            "After activation -  [0.21482279 0.06783638 0.71734083]\n",
            "Dense : [ 0.97796934 -1.45725378 -0.21187656]\n",
            "After activation -  [ 0.97796934 -0.01457254 -0.00211877]\n",
            "Dense : [ 0.93231188 -0.91179989  0.35670832]\n",
            "After activation -  [ 0.93231188 -0.009118    0.35670832]\n",
            "Dense : [-1.85887643  0.33822026  1.08473955]\n",
            "After activation -  [-0.01858876  0.33822026  1.08473955]\n",
            "Output : [-0.15729058 -1.80649352  1.03280554]\n",
            "After activation -  [0.22323421 0.04290629 0.7338595 ]\n",
            "d1: [[-4.65499952 -1.07277304 -3.53782964]\n",
            " [-4.47960024 -1.04482977 -3.75741385]]\n",
            "d2: [[0.16867396 0.06323461 0.20276296]\n",
            " [0.17340069 0.04106534 0.19530973]]\n",
            "d3: [[-0.023495    0.68492261  1.04320793]\n",
            " [-0.023495    0.68492261  1.04320793]\n",
            " [-0.023495    0.68492261  1.04320793]]\n",
            "change: [array([[ 0.01844773, -0.04646267, -0.74833564],\n",
            "       [ 0.01844773, -0.04646267, -0.74833564],\n",
            "       [ 0.01844773, -0.04646267, -0.74833564]]), array([[ 0.01443912, -0.01451178, -0.79604643],\n",
            "       [ 0.01443912, -0.01451178, -0.79604643],\n",
            "       [ 0.01443912, -0.01451178, -0.79604643]])]\n",
            "fin change: [[ 0.00164434 -0.00304872 -0.0772191 ]\n",
            " [ 0.00164434 -0.00304872 -0.0772191 ]\n",
            " [ 0.00164434 -0.00304872 -0.0772191 ]]\n",
            "Before: [ 0.56418388 -0.38164333  0.1298517 ]\n",
            "After: [ 0.56253954 -0.3785946   0.20707081]\n",
            "Before: [ 0.03712998  0.89833455 -1.07720215]\n",
            "After: [ 0.03548563  0.90138327 -0.99998305]\n",
            "Before: [-0.24204928 -0.27688347  0.72300377]\n",
            "After: [-0.24369362 -0.27383475  0.80022287]\n"
          ],
          "name": "stdout"
        },
        {
          "output_type": "execute_result",
          "data": {
            "text/plain": [
              "0.0"
            ]
          },
          "metadata": {
            "tags": []
          },
          "execution_count": 223
        }
      ]
    },
    {
      "cell_type": "code",
      "metadata": {
        "id": "N59zxfHfOMhw",
        "colab_type": "code",
        "outputId": "d93d1cb7-2aa3-4388-d7e3-45c231153fa5",
        "colab": {
          "base_uri": "https://localhost:8080/",
          "height": 101
        }
      },
      "source": [
        "print(iris_y)"
      ],
      "execution_count": 67,
      "outputs": [
        {
          "output_type": "stream",
          "text": [
            "[0 0 0 0 0 0 0 0 0 0 0 0 0 0 0 0 0 0 0 0 0 0 0 0 0 0 0 0 0 0 0 0 0 0 0 0 0\n",
            " 0 0 0 0 0 0 0 0 0 0 0 0 0 1 1 1 1 1 1 1 1 1 1 1 1 1 1 1 1 1 1 1 1 1 1 1 1\n",
            " 1 1 1 1 1 1 1 1 1 1 1 1 1 1 1 1 1 1 1 1 1 1 1 1 1 1 2 2 2 2 2 2 2 2 2 2 2\n",
            " 2 2 2 2 2 2 2 2 2 2 2 2 2 2 2 2 2 2 2 2 2 2 2 2 2 2 2 2 2 2 2 2 2 2 2 2 2\n",
            " 2 2]\n"
          ],
          "name": "stdout"
        }
      ]
    },
    {
      "cell_type": "code",
      "metadata": {
        "id": "exMrAhV5zJFV",
        "colab_type": "code",
        "colab": {}
      },
      "source": [
        ""
      ],
      "execution_count": 0,
      "outputs": []
    }
  ]
}