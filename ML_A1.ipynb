{
  "nbformat": 4,
  "nbformat_minor": 0,
  "metadata": {
    "colab": {
      "name": "ML A1.ipynb",
      "version": "0.3.2",
      "provenance": [],
      "include_colab_link": true
    },
    "kernelspec": {
      "name": "python3",
      "display_name": "Python 3"
    }
  },
  "cells": [
    {
      "cell_type": "markdown",
      "metadata": {
        "id": "view-in-github",
        "colab_type": "text"
      },
      "source": [
        "<a href=\"https://colab.research.google.com/github/13194307/UTS_ML2019_ID13194307/blob/master/ML_A1.ipynb\" target=\"_parent\"><img src=\"https://colab.research.google.com/assets/colab-badge.svg\" alt=\"Open In Colab\"/></a>"
      ]
    },
    {
      "cell_type": "markdown",
      "metadata": {
        "id": "1bBqONbWJh-K",
        "colab_type": "text"
      },
      "source": [
        "# <h1><center><b>Generative Adversarial Nets - Literature Review</b></center></h1>"
      ]
    },
    {
      "cell_type": "markdown",
      "metadata": {
        "id": "YxZeaWdxfltb",
        "colab_type": "text"
      },
      "source": [
        "# Introduction:"
      ]
    },
    {
      "cell_type": "markdown",
      "metadata": {
        "id": "AezWq5Qdfssp",
        "colab_type": "text"
      },
      "source": [
        "# Content (300 words):\n",
        "\n",
        "**Content:** Describe in your own words what the paper is about and what the main challenge or problem it attempted to\n",
        "resolve.\n",
        "\n",
        "\n",
        "\n",
        "*   <b>20 - </b> a complete and accurate understanding\n",
        "*   <b>10 - </b> on-topic, some details missing or with some misunderstanding on side-issues\n",
        "*   <b>0 - </b> off-topic or complete misunderstanding\n",
        "<br></br>\n",
        "\n",
        "In the paper, the concept of Generative Adversarial Networks (GANs) is proposed as a model that could surpass the prevailing generative models at the time the paper was published. Generative models attempt to map the actual distribution of the training data in order to create new data points. This is in contrast to discriminative models, which instead try to find a mapping from X to Y for the purpose of prediction. At the time, generative models encountered many barriers to success, such as the intractability of some probability calculations which would then necessitate the use of less accurate approximations. Generative Adversarial Networks attempt to address this by not relying on assumptions about the distribution of the data."
      ]
    },
    {
      "cell_type": "markdown",
      "metadata": {
        "id": "c1jNl5K3f1JR",
        "colab_type": "text"
      },
      "source": [
        "# Innovation (300 words):"
      ]
    },
    {
      "cell_type": "markdown",
      "metadata": {
        "id": "F8x29Rxyf8RK",
        "colab_type": "text"
      },
      "source": [
        "# Technical Quality (200):"
      ]
    },
    {
      "cell_type": "markdown",
      "metadata": {
        "id": "1tkJLXp6gIEE",
        "colab_type": "text"
      },
      "source": [
        "# Application and X-Factor (200 words):"
      ]
    },
    {
      "cell_type": "markdown",
      "metadata": {
        "id": "eDmR6JqdgM1x",
        "colab_type": "text"
      },
      "source": [
        "# Presentation (100 words):"
      ]
    },
    {
      "cell_type": "markdown",
      "metadata": {
        "id": "27O6aqBXiCkY",
        "colab_type": "text"
      },
      "source": [
        "# References:\n",
        "\n",
        "https://towardsdatascience.com/deep-generative-models-25ab2821afd3"
      ]
    }
  ]
}